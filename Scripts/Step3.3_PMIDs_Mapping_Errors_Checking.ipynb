{
 "cells": [
  {
   "cell_type": "code",
   "execution_count": null,
   "metadata": {},
   "outputs": [],
   "source": [
    "import urllib\n",
    "from Bio import Entrez\n",
    "from xml.dom import minidom\n",
    "import xml.etree.ElementTree as ET\n",
    "import pandas as pd\n",
    "import os\n",
    "import json\n",
    "\n",
    "current_folder = os.getcwd()\n",
    "print (current_folder)"
   ]
  },
  {
   "cell_type": "code",
   "execution_count": null,
   "metadata": {},
   "outputs": [],
   "source": [
    "data_file = str(current_folder) +  \"/All_7226_articles_withPMIDs.csv\"\n",
    "data_df = pd.read_csv(data_file)\n",
    "print (len(data_df))\n",
    "RCT_filtered = data_df\n",
    "display(RCT_filtered.head(4))\n"
   ]
  },
  {
   "cell_type": "code",
   "execution_count": null,
   "metadata": {},
   "outputs": [],
   "source": [
    "RCT_filtered[\"Abstract_Check\"] = \"\"\n",
    "RCT_filtered[\"Title_Check\"] = \"\"\n",
    "\n",
    "count = 0\n",
    "\n",
    "for index, row in RCT_filtered.iterrows():\n",
    "    count +=1\n",
    "    if count%100 == 0:\n",
    "        print (count)\n",
    "    PMID = row[\"PMID Matched\"]\n",
    "    link = \"https://eutils.ncbi.nlm.nih.gov/entrez/eutils/efetch.fcgi?db=pubmed&api_key=1a7d18b4a3b452b6f1d688fa1ad4282bfa09&retmode=xml&id=\" + str(PMID)\n",
    "    request = urllib.request.Request(link)\n",
    "    result = urllib.request.urlopen(request)\n",
    "    tree = ET.parse(result)\n",
    "    doc = tree.getroot()\n",
    "    \n",
    "    #get title\n",
    "    title = doc.find(\".//ArticleTitle\")\n",
    "    if title is not None:\n",
    "        if title != \"\":\n",
    "            article_title = title.text\n",
    "        else:\n",
    "            article_title = \"\"\n",
    "    else:\n",
    "        article_title = \"\"\n",
    "#     print (article_title)\n",
    "    \n",
    "    # get abstract\n",
    "    abstract = doc.find(\".//Abstract\")\n",
    "    article_abstract = \"\"\n",
    "    if abstract:\n",
    "        for abstracttext in abstract.getchildren():\n",
    "            if abstracttext.tag == \"AbstractText\":\n",
    "                abstracttext_children = abstracttext.getchildren()\n",
    "                if len (abstracttext_children) <=1:\n",
    "                    if \"Label\" in abstracttext.attrib:\n",
    "                        article_abstract += (abstracttext.attrib[\"Label\"]) + \": \"\n",
    "                        article_abstract += str(abstracttext.text) + \" \"\n",
    "                    else:\n",
    "                        article_abstract += str(abstracttext.text) + \" \"\n",
    "                else:\n",
    "                    for children in abstracttext_children:\n",
    "                        article_abstract += str(children.text) + \" \"\n",
    "                        article_abstract += str(children.tail) + \" \"  \n",
    "    RCT_filtered.at[index, \"Abstract_Check\"] = (article_abstract)\n",
    "    RCT_filtered.at[index, \"Title_Check\"]= article_title\n",
    "    \n",
    "display(RCT_filtered.head(10))"
   ]
  },
  {
   "cell_type": "code",
   "execution_count": null,
   "metadata": {},
   "outputs": [],
   "source": [
    "RCT_filtered.at[index, \"PMID Mapping Error\"] = \"\"\n",
    "\n",
    "for index, row in RCT_filtered.iterrows():\n",
    "    title_cochrane = row[\"Title\"]\n",
    "    title_PMC = row[\"Title_Check\"]\n",
    "    \n",
    "    # Remove special characters from a string\n",
    "    title_cochrane = ''.join(filter(str.isalnum, title_cochrane)).lower()\n",
    "#     print(title_cochrane)\n",
    "    \n",
    "    title_PMC = ''.join(filter(str.isalnum, title_PMC)).lower()\n",
    "#     print(title_PMC)\n",
    "    \n",
    "    if title_cochrane in title_PMC:\n",
    "        RCT_filtered.at[index, \"PMID Mapping Error\"] = \"\"\n",
    "    else:\n",
    "        RCT_filtered.at[index, \"PMID Mapping Error\"] = \"mapping error\"\n",
    "        "
   ]
  },
  {
   "cell_type": "code",
   "execution_count": null,
   "metadata": {},
   "outputs": [],
   "source": [
    "RCT_filtered.to_csv(\"Tagger_Results_HighScores_7226_articles_mapping_error_checked.csv\")"
   ]
  },
  {
   "cell_type": "code",
   "execution_count": null,
   "metadata": {},
   "outputs": [],
   "source": []
  }
 ],
 "metadata": {
  "kernelspec": {
   "display_name": "lhoang_nlp",
   "language": "python",
   "name": "lhoang_nlp"
  },
  "language_info": {
   "codemirror_mode": {
    "name": "ipython",
    "version": 3
   },
   "file_extension": ".py",
   "mimetype": "text/x-python",
   "name": "python",
   "nbconvert_exporter": "python",
   "pygments_lexer": "ipython3",
   "version": "3.6.10"
  }
 },
 "nbformat": 4,
 "nbformat_minor": 2
}
